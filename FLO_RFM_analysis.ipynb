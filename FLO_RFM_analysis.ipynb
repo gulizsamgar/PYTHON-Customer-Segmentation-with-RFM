{
  "nbformat": 4,
  "nbformat_minor": 0,
  "metadata": {
    "colab": {
      "provenance": [],
      "authorship_tag": "ABX9TyNurgKQdTPmDSktwjInr380",
      "include_colab_link": true
    },
    "kernelspec": {
      "name": "python3",
      "display_name": "Python 3"
    },
    "language_info": {
      "name": "python"
    }
  },
  "cells": [
    {
      "cell_type": "markdown",
      "metadata": {
        "id": "view-in-github",
        "colab_type": "text"
      },
      "source": [
        "<a href=\"https://colab.research.google.com/github/gulizsamgar/PYTHON-Customer-Segmentation-with-RFM/blob/main/FLO_RFM_analysis.ipynb\" target=\"_parent\"><img src=\"https://colab.research.google.com/assets/colab-badge.svg\" alt=\"Open In Colab\"/></a>"
      ]
    },
    {
      "cell_type": "markdown",
      "source": [
        "# **FLO Müşteri Segmentasyonu (RFM Analizi)**"
      ],
      "metadata": {
        "id": "xIlqg63zKPFB"
      }
    },
    {
      "cell_type": "markdown",
      "metadata": {
        "id": "dc1ac292"
      },
      "source": [
        "* * *\n",
        "\n",
        "*Proje Yazarı: Güliz Samğar*\n",
        "\n",
        "*Son Güncelleme Tarihi: 18 Ağustos 2025*\n",
        "\n",
        "* * *"
      ]
    },
    {
      "cell_type": "markdown",
      "metadata": {
        "id": "9f014746"
      },
      "source": [
        "**Proje Genel Bakış**\n",
        "\n",
        "Bu proje kapsamında, FLO’nun 20.000 müşteriden oluşan veri seti üzerinde RFM (Recency, Frequency, Monetary) analizi uygulanmıştır. Çalışmanın amacı, müşterilerin alışveriş davranışlarını analiz ederek sadakat seviyelerini ölçmek, müşteri segmentasyonu yapmak ve hedef pazarlama stratejileri oluşturmaktır. FLO müşterilerini segmentlere ayırıp bu segmentlere göre pazarlama stratejileri belirlemek istiyor. Buna yönelik olarak müşterilerin davranışları tanımlanacak ve bu davranış öbeklenmelerine göre gruplar oluşturulacak.\n",
        "\n",
        "Proje Adımları:\n",
        "\n",
        "1.  **Veriyi Tanıma ve Hazırlama:** Veri setinin yüklenmesi, genel bilgilerin incelenmesi, eksik değer kontrolü ve yeni değişkenlerin (toplam sipariş, toplam harcama) oluşturulması.\n",
        "2.  **RFM Metriklerinin Hesaplanması:** Recency (Son siparişin üzerinden geçen süre), Frequency (Toplam sipariş sayısı) ve Monetary (Toplam harcama) değerlerinin hesaplanması.\n",
        "3.  **RF ve RFM Skorlarının Hesaplanması:** Hesaplanan RFM metriklerinin 1-5 arası skorlara dönüştürülmesi ve RF/RFM skorlarının oluşturulması.\n",
        "4.  **Segmentlerin Oluşturulması:** RF skorlarına göre müşterilerin önceden tanımlanmış segmentlere atanması.\n",
        "5.  **Eyleme Dönüştürülebilir İçgörüler:** Oluşturulan segmentlerin özelliklerinin incelenmesi ve belirli pazarlama kampanyaları için hedef müşteri kitlelerinin belirlenmesi.\n",
        "6.  **BONUS: Tüm Süreci Fonksiyonlaştırma:** RFM segmentasyon adımlarının tekrar kullanılabilir bir fonksiyon içine alınması.\n",
        "\n",
        "Bu analiz sonucunda elde edilen müşteri segmentleri, FLO'nun pazarlama faaliyetlerini daha etkili ve kişiselleştirilmiş hale getirmesine yardımcı olacaktır."
      ]
    },
    {
      "cell_type": "markdown",
      "metadata": {
        "id": "-oXmCiWFheS7"
      },
      "source": [
        "Bu projede kullanılan veri setine [Github'dan](https://github.com/gulizsamgar/PYTHON-Customer-Segmentation-with-RFM/blob/b42d687f63dc9538bf89e7b4384bfeb8670ecd8b/dataset/flo_data_20k.csv) ulaşabilirsiniz.\n",
        "\n",
        "> *Veri setimizle çalışmaya hazırız. Haydi başlayalım!*\n",
        "\n"
      ]
    },
    {
      "cell_type": "markdown",
      "source": [
        "***"
      ],
      "metadata": {
        "id": "lOoeyHo_rEVk"
      }
    },
    {
      "cell_type": "markdown",
      "source": [
        "**Kütüphanelerin İçe Aktarılması ve Görüntü Ayarları**"
      ],
      "metadata": {
        "id": "VsCFroD2U6FO"
      }
    },
    {
      "cell_type": "markdown",
      "source": [
        "Bu bölüm, veri analizi için gerekli kütüphaneleri içe aktarır ve pandas görüntü ayarlarını yapılandırır."
      ],
      "metadata": {
        "id": "VvrIZ73A_5Cl"
      }
    },
    {
      "cell_type": "code",
      "metadata": {
        "id": "7251a03b",
        "collapsed": true
      },
      "source": [
        "from google.colab import drive\n",
        "drive.mount('/content/drive')"
      ],
      "execution_count": null,
      "outputs": []
    },
    {
      "cell_type": "code",
      "source": [
        "import pandas as pd\n",
        "import datetime as dt\n",
        "pd.set_option('display.max_columns', None)\n",
        "pd.set_option('display.max_rows', None)\n",
        "pd.set_option('display.float_format', lambda x: '%.2f' % x)\n",
        "pd.set_option('display.width',1000)"
      ],
      "metadata": {
        "id": "Jgx4mDsqUcvM"
      },
      "execution_count": null,
      "outputs": []
    },
    {
      "cell_type": "markdown",
      "source": [
        "---"
      ],
      "metadata": {
        "id": "ECUvXILArBvz"
      }
    },
    {
      "cell_type": "markdown",
      "source": [
        "**GÖREV 1: VERİYİ TANIMA VE HAZIRLAMA**\n"
      ],
      "metadata": {
        "id": "rhm7kTAikmBZ"
      }
    },
    {
      "cell_type": "code",
      "metadata": {
        "colab": {
          "base_uri": "https://localhost:8080/"
        },
        "id": "8638a496",
        "outputId": "1069eb1d-277b-452c-b34f-4f2efb029cde"
      },
      "source": [
        "###############################################################\n",
        "# 1. Veri setini içe aktar\n",
        "###############################################################\n",
        "\n",
        "# Dosya yolu tanımlanıyor.\n",
        "file_path = '/content/drive/MyDrive/flo_data_20k.csv'\n",
        "# CSV dosyasını pandas DataFrame'ine oku.\n",
        "df_ = pd.read_csv(file_path)\n",
        "# Orijinal DataFrame'in bir kopyasını oluştur.\n",
        "df = df_.copy()\n",
        "\n",
        "# Doğru şekilde yüklendiğini onaylamak için ilk birkaç satırı görüntüle\n",
        "print(\"\\nFirst 5 rows of dataset:\")\n",
        "print(df.head(), \"\\n\")"
      ],
      "execution_count": null,
      "outputs": [
        {
          "output_type": "stream",
          "name": "stdout",
          "text": [
            "\n",
            "First 5 rows of dataset:\n",
            "                              master_id order_channel last_order_channel first_order_date last_order_date last_order_date_online last_order_date_offline  order_num_total_ever_online  order_num_total_ever_offline  customer_value_total_ever_offline  customer_value_total_ever_online       interested_in_categories_12\n",
            "0  cc294636-19f0-11eb-8d74-000d3a38a36f   Android App            Offline       2020-10-30      2021-02-26             2021-02-21              2021-02-26                         4.00                          1.00                             139.99                            799.38                           [KADIN]\n",
            "1  f431bd5a-ab7b-11e9-a2fc-000d3a38a36f   Android App             Mobile       2017-02-08      2021-02-16             2021-02-16              2020-01-10                        19.00                          2.00                             159.97                           1853.58  [ERKEK, COCUK, KADIN, AKTIFSPOR]\n",
            "2  69b69676-1a40-11ea-941b-000d3a38a36f   Android App        Android App       2019-11-27      2020-11-27             2020-11-27              2019-12-01                         3.00                          2.00                             189.97                            395.35                    [ERKEK, KADIN]\n",
            "3  1854e56c-491f-11eb-806e-000d3a38a36f   Android App        Android App       2021-01-06      2021-01-17             2021-01-17              2021-01-06                         1.00                          1.00                              39.99                             81.98               [AKTIFCOCUK, COCUK]\n",
            "4  d6ea1074-f1f5-11e9-9346-000d3a38a36f       Desktop            Desktop       2019-08-03      2021-03-07             2021-03-07              2019-08-03                         1.00                          1.00                              49.99                            159.99                       [AKTIFSPOR] \n",
            "\n"
          ]
        }
      ]
    },
    {
      "cell_type": "markdown",
      "metadata": {
        "id": "7eefb2a6"
      },
      "source": [
        "  **Veri Seti Bilgisi**\n",
        "\n",
        "  Bu veri seti, 2020 - 2021 yıllarında OmniChannel (hem online hem offline alışveriş yapan) olarak alışveriş yapan müşterilerin geçmiş alışveriş davranışlarından elde edilen bilgilerden oluşmaktadır.\n",
        "\n",
        "  Veri setindeki sütunlar aşağıdaki bilgileri içermektedir:\n",
        "\n",
        "*   **master\\_id**: Eşsiz müşteri numarası\n",
        "*   **order\\_channel**: Alışveriş yapılan platforma ait hangi kanalın kullanıldığı (Android, ios, Desktop, Mobile, Offline)\n",
        "*   **last\\_order\\_channel**: En son alışverişin yapıldığı kanal\n",
        "*   **first\\_order\\_date**: Müşterinin yaptığı ilk alışveriş tarihi\n",
        "*   **last\\_order\\_date**: Müşterinin yaptığı son alışveriş tarihi\n",
        "*   **last\\_order\\_date\\_online**: Müşterinin online platformda yaptığı son alışveriş tarihi\n",
        "*   **last\\_order\\_date\\_offline**: Müşterinin offline platformda yaptığı son alışveriş tarihi\n",
        "*   **order\\_num\\_total\\_ever\\_online**: Müşterinin online platformda yaptığı toplam alışveriş sayısı\n",
        "*   **order\\_num\\_total\\_ever\\_offline**: Müşterinin offline'da yaptığı toplam alışveriş sayısı\n",
        "*   **customer\\_value\\_total\\_ever\\_offline**: Müşterinin offline alışverişlerinde ödediği toplam ücret\n",
        "*   **customer\\_value\\_total\\_ever\\_online**: Müşterinin online alışverişlerinde ödediği toplam ücret\n",
        "*   **interested\\_in\\_categories\\_12**: Müşterinin son 12 ayda alışveriş yaptığı kategorilerin listesi"
      ]
    },
    {
      "cell_type": "markdown",
      "source": [
        "---"
      ],
      "metadata": {
        "id": "nkjiLzbQBcZu"
      }
    },
    {
      "cell_type": "code",
      "source": [
        "###############################################################\n",
        "# 2. Veri keşfi\n",
        "###############################################################\n",
        "\n",
        "# Veri setinin ilk 10 satırını yazdır.\n",
        "print(\"\\nFirst 10 rows:\")\n",
        "print(df.head(10), \"\\n\")\n",
        "\n",
        "# Sütun isimlerini yazdır.\n",
        "print(\"\\nColumn names:\")\n",
        "print(df.columns, \"\\n\")\n",
        "\n",
        "# Veri setinin boyutlarını (satır ve sütun sayısı) yazdır.\n",
        "print(\"\\nShape of dataset (rows, columns):\", df.shape, \"\\n\")\n",
        "\n",
        "# Betimsel istatistikleri (sayısal sütunlar için) yazdır.\n",
        "print(\"\\nDescriptive statistics:\")\n",
        "print(df.describe().T, \"\\n\")\n",
        "\n",
        "# Her sütundaki eksik (NaN) değerlerin sayısını yazdır.\n",
        "print(\"\\nMissing values by column:\")\n",
        "print(df.isnull().sum(), \"\\n\")\n",
        "\n",
        "# Veri setinin sütunları, eksik olmayan değer sayısı ve veri tipleri hakkında bilgi yazdır.\n",
        "print(\"\\nData types:\")\n",
        "print(df.info(), \"\\n\")"
      ],
      "metadata": {
        "colab": {
          "base_uri": "https://localhost:8080/"
        },
        "id": "Nm6w_RcpmE5N",
        "outputId": "7fa056f3-c5c6-4429-e7f9-d56135aba505"
      },
      "execution_count": null,
      "outputs": [
        {
          "output_type": "stream",
          "name": "stdout",
          "text": [
            "\n",
            "First 10 rows:\n",
            "                              master_id order_channel last_order_channel first_order_date last_order_date last_order_date_online last_order_date_offline  order_num_total_ever_online  order_num_total_ever_offline  customer_value_total_ever_offline  customer_value_total_ever_online       interested_in_categories_12\n",
            "0  cc294636-19f0-11eb-8d74-000d3a38a36f   Android App            Offline       2020-10-30      2021-02-26             2021-02-21              2021-02-26                         4.00                          1.00                             139.99                            799.38                           [KADIN]\n",
            "1  f431bd5a-ab7b-11e9-a2fc-000d3a38a36f   Android App             Mobile       2017-02-08      2021-02-16             2021-02-16              2020-01-10                        19.00                          2.00                             159.97                           1853.58  [ERKEK, COCUK, KADIN, AKTIFSPOR]\n",
            "2  69b69676-1a40-11ea-941b-000d3a38a36f   Android App        Android App       2019-11-27      2020-11-27             2020-11-27              2019-12-01                         3.00                          2.00                             189.97                            395.35                    [ERKEK, KADIN]\n",
            "3  1854e56c-491f-11eb-806e-000d3a38a36f   Android App        Android App       2021-01-06      2021-01-17             2021-01-17              2021-01-06                         1.00                          1.00                              39.99                             81.98               [AKTIFCOCUK, COCUK]\n",
            "4  d6ea1074-f1f5-11e9-9346-000d3a38a36f       Desktop            Desktop       2019-08-03      2021-03-07             2021-03-07              2019-08-03                         1.00                          1.00                              49.99                            159.99                       [AKTIFSPOR]\n",
            "5  e585280e-aae1-11e9-a2fc-000d3a38a36f       Desktop            Offline       2018-11-18      2021-03-13             2018-11-18              2021-03-13                         1.00                          2.00                             150.87                             49.99                           [KADIN]\n",
            "6  c445e4ee-6242-11ea-9d1a-000d3a38a36f   Android App        Android App       2020-03-04      2020-10-18             2020-10-18              2020-03-04                         3.00                          1.00                              59.99                            315.94                       [AKTIFSPOR]\n",
            "7  3f1b4dc8-8a7d-11ea-8ec0-000d3a38a36f        Mobile            Offline       2020-05-15      2020-08-12             2020-05-15              2020-08-12                         1.00                          1.00                              49.99                            113.64                           [COCUK]\n",
            "8  cfbda69e-5b4f-11ea-aca7-000d3a38a36f   Android App        Android App       2020-01-23      2021-03-07             2021-03-07              2020-01-25                         3.00                          2.00                             120.48                            934.21             [ERKEK, COCUK, KADIN]\n",
            "9  1143f032-440d-11ea-8b43-000d3a38a36f        Mobile             Mobile       2019-07-30      2020-10-04             2020-10-04              2019-07-30                         1.00                          1.00                              69.98                             95.98                [KADIN, AKTIFSPOR] \n",
            "\n",
            "\n",
            "Column names:\n",
            "Index(['master_id', 'order_channel', 'last_order_channel', 'first_order_date', 'last_order_date', 'last_order_date_online', 'last_order_date_offline', 'order_num_total_ever_online', 'order_num_total_ever_offline', 'customer_value_total_ever_offline', 'customer_value_total_ever_online', 'interested_in_categories_12'], dtype='object') \n",
            "\n",
            "\n",
            "Shape of dataset (rows, columns): (19945, 12) \n",
            "\n",
            "\n",
            "Descriptive statistics:\n",
            "                                     count   mean    std   min    25%    50%    75%      max\n",
            "order_num_total_ever_online       19945.00   3.11   4.23  1.00   1.00   2.00   4.00   200.00\n",
            "order_num_total_ever_offline      19945.00   1.91   2.06  1.00   1.00   1.00   2.00   109.00\n",
            "customer_value_total_ever_offline 19945.00 253.92 301.53 10.00  99.99 179.98 319.97 18119.14\n",
            "customer_value_total_ever_online  19945.00 497.32 832.60 12.99 149.98 286.46 578.44 45220.13 \n",
            "\n",
            "\n",
            "Missing values by column:\n",
            "master_id                            0\n",
            "order_channel                        0\n",
            "last_order_channel                   0\n",
            "first_order_date                     0\n",
            "last_order_date                      0\n",
            "last_order_date_online               0\n",
            "last_order_date_offline              0\n",
            "order_num_total_ever_online          0\n",
            "order_num_total_ever_offline         0\n",
            "customer_value_total_ever_offline    0\n",
            "customer_value_total_ever_online     0\n",
            "interested_in_categories_12          0\n",
            "dtype: int64 \n",
            "\n",
            "\n",
            "Data types:\n",
            "<class 'pandas.core.frame.DataFrame'>\n",
            "RangeIndex: 19945 entries, 0 to 19944\n",
            "Data columns (total 12 columns):\n",
            " #   Column                             Non-Null Count  Dtype  \n",
            "---  ------                             --------------  -----  \n",
            " 0   master_id                          19945 non-null  object \n",
            " 1   order_channel                      19945 non-null  object \n",
            " 2   last_order_channel                 19945 non-null  object \n",
            " 3   first_order_date                   19945 non-null  object \n",
            " 4   last_order_date                    19945 non-null  object \n",
            " 5   last_order_date_online             19945 non-null  object \n",
            " 6   last_order_date_offline            19945 non-null  object \n",
            " 7   order_num_total_ever_online        19945 non-null  float64\n",
            " 8   order_num_total_ever_offline       19945 non-null  float64\n",
            " 9   customer_value_total_ever_offline  19945 non-null  float64\n",
            " 10  customer_value_total_ever_online   19945 non-null  float64\n",
            " 11  interested_in_categories_12        19945 non-null  object \n",
            "dtypes: float64(4), object(8)\n",
            "memory usage: 1.8+ MB\n",
            "None \n",
            "\n"
          ]
        }
      ]
    },
    {
      "cell_type": "markdown",
      "source": [
        "---"
      ],
      "metadata": {
        "id": "IPDGtfIgBaAz"
      }
    },
    {
      "cell_type": "code",
      "source": [
        "###############################################################\n",
        "# 3. Özellik Mühendisliği: Müşteri bazında toplam sipariş sayısı ve toplam harcama\n",
        "###############################################################\n",
        "\n",
        "df[\"order_num_total\"] = df[\"order_num_total_ever_online\"] + df[\"order_num_total_ever_offline\"]\n",
        "df[\"customer_value_total\"] = df[\"customer_value_total_ever_offline\"] + df[\"customer_value_total_ever_online\"]\n"
      ],
      "metadata": {
        "id": "Yc9dCWkstA4W"
      },
      "execution_count": null,
      "outputs": []
    },
    {
      "cell_type": "markdown",
      "metadata": {
        "id": "bff18f6a"
      },
      "source": [
        "**Yeni Değişkenlerin Oluşturulması**\n",
        "\n",
        "Bu adımda, herbir müşterinin toplam sipariş sayısını ve toplam harcama değerini hesaplamak için iki yeni değişken oluşturulmuştur:\n",
        "\n",
        "*   `order_num_total`: Müşterinin hem online hem de offline platformlarda yaptığı toplam sipariş sayısıdır. Online ve offline sipariş sayıları toplanarak elde edilir.\n",
        "*   `customer_value_total`: Müşterinin hem online hem de offline alışverişlerinde ödediği toplam ücrettir. Online ve offline harcama değerleri toplanarak elde edilir."
      ]
    },
    {
      "cell_type": "markdown",
      "source": [
        "---"
      ],
      "metadata": {
        "id": "okAWIEhLBYrc"
      }
    },
    {
      "cell_type": "code",
      "source": [
        "###############################################################\n",
        "# 4. Tarih değişkenlerini datetime tipine çevir\n",
        "###############################################################\n",
        "\n",
        "# Sütun isimleri içinde \"date\" geçenleri seç.\n",
        "date_columns = df.columns[df.columns.str.contains(\"date\")]\n",
        "# Seçilen sütunları datetime tipine çevir.\n",
        "df[date_columns] = df[date_columns].apply(pd.to_datetime)"
      ],
      "metadata": {
        "id": "HPa8kAj8wFvY"
      },
      "execution_count": null,
      "outputs": []
    },
    {
      "cell_type": "markdown",
      "metadata": {
        "id": "d2d55618"
      },
      "source": [
        "**Tarih Değişkenlerinin Dönüştürülmesi**\n",
        "\n",
        "Bu adımda, veri setindeki tarih bilgilerini içeren sütunlar (`first_order_date`, `last_order_date`, `last_order_date_online`, `last_order_date_offline`) pandas'ın `datetime` tipine dönüştürülmüştür.\n",
        "\n",
        "Bu dönüşüm, tarihler üzerinde kolayca hesaplamalar yapabilmemizi sağlar. Örneğin, iki tarih arasındaki farkı bulmak (recency hesaplaması için gerekli), tarihleri belirli formatlarda görüntülemek veya zaman serisi analizleri yapmak için `datetime` tipi gereklidir. Bu sayede tarih verilerini daha etkin bir şekilde kullanabiliriz."
      ]
    },
    {
      "cell_type": "markdown",
      "source": [
        "---"
      ],
      "metadata": {
        "id": "4eqApRYGBXA6"
      }
    },
    {
      "cell_type": "code",
      "source": [
        "###############################################################\n",
        "# 5. Kanal bazında dağılım\n",
        "###############################################################\n",
        "\n",
        "# order_channel sütununa göre gruplama yap.\n",
        "print(\"\\nDistribution by order channel:\")\n",
        "# Her kanal için müşteri sayısı, toplam sipariş sayısı),toplam harcama hesapla.\n",
        "print(df.groupby(\"order_channel\").agg({\"master_id\": \"count\",\n",
        "                                       \"order_num_total\": \"sum\",\n",
        "                                       \"customer_value_total\": \"sum\"}), \"\\n\")"
      ],
      "metadata": {
        "colab": {
          "base_uri": "https://localhost:8080/"
        },
        "id": "tgW9zOd4xums",
        "outputId": "9632dc56-7588-470a-cb2a-f73cf34a0d6f"
      },
      "execution_count": null,
      "outputs": [
        {
          "output_type": "stream",
          "name": "stdout",
          "text": [
            "\n",
            "Distribution by order channel:\n",
            "               master_id  order_num_total  customer_value_total\n",
            "order_channel                                                  \n",
            "Android App         9495         52269.00            7819062.76\n",
            "Desktop             2735         10920.00            1610321.46\n",
            "Ios App             2833         15351.00            2525999.93\n",
            "Mobile              4882         21679.00            3028183.16 \n",
            "\n"
          ]
        }
      ]
    },
    {
      "cell_type": "markdown",
      "metadata": {
        "id": "6d9e0cc1"
      },
      "source": [
        "**Kanal Bazında Dağılım Analizi**\n",
        "\n",
        "Bu adımda, müşterilerin hangi kanalları (Android App, Desktop, Ios App, Mobile) kullanarak alışveriş yaptıkları incelenmiştir. `order_channel` sütununa göre gruplama yapılarak her bir kanal için aşağıdaki metrikler hesaplanmıştır:\n",
        "\n",
        "*   **master\\_id (count)**: O kanalı kullanan eşsiz müşteri sayısı.\n",
        "*   **order\\_num\\_total (sum)**: O kanal üzerinden yapılan toplam sipariş sayısı.\n",
        "*   **customer\\_value\\_total (sum)**: O kanal üzerinden yapılan toplam harcama değeri.\n",
        "\n",
        "Elde edilen sonuçlar, hangi kanalların daha fazla müşteriye, daha yüksek sipariş sayısına veya daha yüksek toplam harcamaya sahip olduğunu göstererek pazarlama stratejilerinin hangi kanallara odaklanması gerektiği konusunda bilgi sağlar."
      ]
    },
    {
      "cell_type": "markdown",
      "source": [
        "---"
      ],
      "metadata": {
        "id": "FdQRbMx4BU7C"
      }
    },
    {
      "cell_type": "code",
      "source": [
        "###############################################################\n",
        "# 6. En çok gelir getiren ilk 10 müşteri\n",
        "###############################################################\n",
        "\n",
        "# \"customer_value_total\" sütununa göre DataFrame'i azalan sırada sırala.\n",
        "# İlk 10 satırı seç.\n",
        "print(\"\\nTop 10 customers by total revenue:\")\n",
        "print(df.sort_values(\"customer_value_total\", ascending=False).head(10), \"\\n\")"
      ],
      "metadata": {
        "colab": {
          "base_uri": "https://localhost:8080/"
        },
        "id": "_1IL7-9QysS7",
        "outputId": "5c364dc7-9c74-4b64-aeee-b3ddb2dad64b"
      },
      "execution_count": null,
      "outputs": [
        {
          "output_type": "stream",
          "name": "stdout",
          "text": [
            "\n",
            "Top 10 customers by total revenue:\n",
            "                                  master_id order_channel last_order_channel first_order_date last_order_date last_order_date_online last_order_date_offline  order_num_total_ever_online  order_num_total_ever_offline  customer_value_total_ever_offline  customer_value_total_ever_online                   interested_in_categories_12  order_num_total  customer_value_total\n",
            "11150  5d1c466a-9cfd-11e9-9897-000d3a38a36f   Android App            Desktop       2013-10-11      2021-04-30             2021-04-30              2020-12-24                       200.00                          2.00                             684.97                          45220.13  [AKTIFCOCUK, ERKEK, COCUK, KADIN, AKTIFSPOR]           202.00              45905.10\n",
            "4315   d5ef8058-a5c6-11e9-a2fc-000d3a38a36f   Android App        Android App       2018-08-06      2021-02-23             2021-02-23              2020-07-06                        67.00                          1.00                             130.49                          36687.80         [AKTIFCOCUK, ERKEK, KADIN, AKTIFSPOR]            68.00              36818.29\n",
            "7613   73fd19aa-9e37-11e9-9897-000d3a38a36f       Ios App            Offline       2014-01-14      2021-05-18             2021-01-30              2021-05-18                        81.00                          1.00                            1263.76                          32654.34              [ERKEK, COCUK, KADIN, AKTIFSPOR]            82.00              33918.10\n",
            "13880  7137a5c0-7aad-11ea-8f20-000d3a38a36f       Ios App            Offline       2021-03-01      2021-04-13             2021-03-18              2021-04-13                        10.00                          1.00                             538.94                          30688.47                     [ERKEK, KADIN, AKTIFSPOR]            11.00              31227.41\n",
            "9055   47a642fe-975b-11eb-8c2a-000d3a38a36f   Android App            Offline       2021-04-07      2021-04-27             2021-04-07              2021-04-27                         1.00                          3.00                           18119.14                           2587.20                                   [AKTIFSPOR]             4.00              20706.34\n",
            "7330   a4d534a2-5b1b-11eb-8dbd-000d3a38a36f       Desktop            Desktop       2020-02-16      2021-04-30             2021-04-30              2020-12-18                        66.00                          4.00                             843.68                          17599.89                     [ERKEK, KADIN, AKTIFSPOR]            70.00              18443.57\n",
            "8068   d696c654-2633-11ea-8e1c-000d3a38a36f       Ios App            Ios App       2017-05-10      2021-04-13             2021-04-13              2019-08-15                        69.00                          1.00                              82.48                          16836.09  [AKTIFCOCUK, ERKEK, COCUK, KADIN, AKTIFSPOR]            70.00              16918.57\n",
            "163    fef57ffa-aae6-11e9-a2fc-000d3a38a36f        Mobile            Desktop       2016-11-08      2021-05-12             2021-05-12              2020-07-09                        36.00                          1.00                             180.73                          12545.37                            [ERKEK, AKTIFSPOR]            37.00              12726.10\n",
            "7223   cba59206-9dd1-11e9-9897-000d3a38a36f   Android App        Android App       2013-02-21      2021-05-09             2021-05-09              2020-01-25                       130.00                          1.00                              49.99                          12232.25         [AKTIFCOCUK, ERKEK, KADIN, AKTIFSPOR]           131.00              12282.24\n",
            "18767  fc0ce7a4-9d87-11e9-9897-000d3a38a36f       Desktop            Desktop       2018-11-24      2020-11-11             2020-11-11              2019-12-06                        18.00                          2.00                              64.97                          12038.18                                [ERKEK, KADIN]            20.00              12103.15 \n",
            "\n"
          ]
        }
      ]
    },
    {
      "cell_type": "markdown",
      "metadata": {
        "id": "24e8f295"
      },
      "source": [
        "**En Çok Gelir Getiren İlk 10 Müşteri**\n",
        "\n",
        "Bu adımda, `customer_value_total` sütununa göre DataFrame'i azalan sırada sıralayarak (en yüksek toplam harcamadan en düşüğe doğru) en çok gelir getiren ilk 10 müşteriyi belirledik.\n",
        "\n",
        "Bu liste, şirketin en değerli müşterilerini hızlıca görmemizi sağlar. Bu müşterilere özel pazarlama kampanyaları, sadakat programları veya ayrıcalıklar sunarak ilişkileri güçlendirmek ve daha fazla gelir elde etmek hedeflenebilir."
      ]
    },
    {
      "cell_type": "markdown",
      "source": [
        "---"
      ],
      "metadata": {
        "id": "b_JvxMCOBTVx"
      }
    },
    {
      "cell_type": "code",
      "source": [
        "###############################################################\n",
        "# 7. En çok sipariş veren ilk 10 müşteri\n",
        "###############################################################\n",
        "\n",
        "# \"order_num_total\" sütununa göre DataFrame'i azalan sırada sırala.\n",
        "# İlk 10 satırı seç.\n",
        "print(\"\\nTop 10 customers by total number of orders:\")\n",
        "print(df.sort_values(\"order_num_total\", ascending=False).head(10), \"\\n\")"
      ],
      "metadata": {
        "colab": {
          "base_uri": "https://localhost:8080/"
        },
        "id": "eqmDG5HyzHnb",
        "outputId": "f101c2d7-ce94-4740-9ced-abada89b6f1e"
      },
      "execution_count": null,
      "outputs": [
        {
          "output_type": "stream",
          "name": "stdout",
          "text": [
            "\n",
            "Top 10 customers by total number of orders:\n",
            "                                  master_id order_channel last_order_channel first_order_date last_order_date last_order_date_online last_order_date_offline  order_num_total_ever_online  order_num_total_ever_offline  customer_value_total_ever_offline  customer_value_total_ever_online                   interested_in_categories_12  order_num_total  customer_value_total\n",
            "11150  5d1c466a-9cfd-11e9-9897-000d3a38a36f   Android App            Desktop       2013-10-11      2021-04-30             2021-04-30              2020-12-24                       200.00                          2.00                             684.97                          45220.13  [AKTIFCOCUK, ERKEK, COCUK, KADIN, AKTIFSPOR]           202.00              45905.10\n",
            "7223   cba59206-9dd1-11e9-9897-000d3a38a36f   Android App        Android App       2013-02-21      2021-05-09             2021-05-09              2020-01-25                       130.00                          1.00                              49.99                          12232.25         [AKTIFCOCUK, ERKEK, KADIN, AKTIFSPOR]           131.00              12282.24\n",
            "8783   a57f4302-b1a8-11e9-89fa-000d3a38a36f   Android App            Offline       2019-08-07      2020-11-04             2020-09-07              2020-11-04                         2.00                        109.00                           10239.46                            143.98  [AKTIFCOCUK, ERKEK, COCUK, KADIN, AKTIFSPOR]           111.00              10383.44\n",
            "2619   fdbe8304-a7ab-11e9-a2fc-000d3a38a36f   Android App            Offline       2018-10-18      2020-06-30             2018-10-18              2020-06-30                         1.00                         87.00                            8432.25                            139.98                                       [ERKEK]            88.00               8572.23\n",
            "6322   329968c6-a0e2-11e9-a2fc-000d3a38a36f       Ios App            Ios App       2019-02-14      2021-04-05             2021-04-05              2020-02-17                         2.00                         81.00                            3997.55                            242.81                                       [ERKEK]            83.00               4240.36\n",
            "7613   73fd19aa-9e37-11e9-9897-000d3a38a36f       Ios App            Offline       2014-01-14      2021-05-18             2021-01-30              2021-05-18                        81.00                          1.00                            1263.76                          32654.34              [ERKEK, COCUK, KADIN, AKTIFSPOR]            82.00              33918.10\n",
            "9347   44d032ee-a0d4-11e9-a2fc-000d3a38a36f        Mobile             Mobile       2019-02-11      2021-02-11             2021-02-11              2020-12-24                         3.00                         74.00                            4640.77                            543.28                            [KADIN, AKTIFSPOR]            77.00               5184.05\n",
            "10954  b27e241a-a901-11e9-a2fc-000d3a38a36f        Mobile             Mobile       2015-09-12      2021-04-01             2021-04-01              2019-10-08                        72.00                          3.00                             292.93                           5004.95         [AKTIFCOCUK, ERKEK, KADIN, AKTIFSPOR]            75.00               5297.88\n",
            "7330   a4d534a2-5b1b-11eb-8dbd-000d3a38a36f       Desktop            Desktop       2020-02-16      2021-04-30             2021-04-30              2020-12-18                        66.00                          4.00                             843.68                          17599.89                     [ERKEK, KADIN, AKTIFSPOR]            70.00              18443.57\n",
            "8068   d696c654-2633-11ea-8e1c-000d3a38a36f       Ios App            Ios App       2017-05-10      2021-04-13             2021-04-13              2019-08-15                        69.00                          1.00                              82.48                          16836.09  [AKTIFCOCUK, ERKEK, COCUK, KADIN, AKTIFSPOR]            70.00              16918.57 \n",
            "\n"
          ]
        }
      ]
    },
    {
      "cell_type": "markdown",
      "metadata": {
        "id": "a5219d35"
      },
      "source": [
        "**En Çok Sipariş Veren İlk 10 Müşteri**\n",
        "\n",
        "Bu adımda, `order_num_total` sütununa göre DataFrame'i azalan sırada sıralayarak (en yüksek toplam sipariş sayısından en düşüğe doğru) en çok sipariş veren ilk 10 müşteriyi belirledik.\n",
        "\n",
        "Bu liste, şirketin en sadık ve sık alışveriş yapan müşterilerini görmemizi sağlar. Bu müşterilere yönelik özel teklifler, erken erişim kampanyaları veya topluluk etkinlikleri düzenleyerek müşteri bağlılığını artırmak hedeflenebilir."
      ]
    },
    {
      "cell_type": "markdown",
      "source": [
        "---"
      ],
      "metadata": {
        "id": "O-5iZCQTsBcp"
      }
    },
    {
      "cell_type": "markdown",
      "source": [
        "---"
      ],
      "metadata": {
        "id": "lNDECLEisf07"
      }
    },
    {
      "cell_type": "markdown",
      "source": [
        "**GÖREV 2: RFM METRİKLERİNİN HESAPLANMASI**"
      ],
      "metadata": {
        "id": "F_hr9KIXsQfX"
      }
    },
    {
      "cell_type": "markdown",
      "metadata": {
        "id": "f7eafa2d"
      },
      "source": [
        "Bu bölüm, RFM (Recency, Frequency, Monetary) analizi için gerekli olan temel metriklerin hesaplanmasını içerir."
      ]
    },
    {
      "cell_type": "code",
      "source": [
        "###############################################################\n",
        "# 1. Analiz tarihi: Son alışveriş tarihinden 2 gün sonrası\n",
        "###############################################################\n",
        "\n",
        "# Veri setindeki son sipariş tarihini bul.\n",
        "print(\"\\nLast order date in dataset:\")\n",
        "print(df[\"last_order_date\"].max())  # Veri setindeki son tarih 2021-05-30\n",
        "\n",
        "# Analiz tarihini belirle (son sipariş tarihinden 2 gün sonrası).\n",
        "analysis_date = dt.datetime(2021, 6, 1)\n",
        "\n",
        "###############################################################\n",
        "# 2. RFM dataframe oluşturma\n",
        "###############################################################\n",
        "\n",
        "# RFM metriklerini saklamak için boş bir DataFrame oluştur.\n",
        "rfm = pd.DataFrame()\n",
        "# Müşteri ID'lerini RFM DataFrame'ine kopyala.\n",
        "rfm[\"customer_id\"] = df[\"master_id\"]\n",
        "\n",
        "# Recency (Yenilik): Analiz tarihi ile son sipariş tarihi arasındaki gün farkını hesapla.\n",
        "rfm[\"recency\"] = (analysis_date - df[\"last_order_date\"]).dt.days\n",
        "\n",
        "# Frequency (Sıklık): Toplam sipariş sayısını kullan.\n",
        "rfm[\"frequency\"] = df[\"order_num_total\"]\n",
        "\n",
        "# Monetary (Parasal Değer): Toplam harcama değerini kullan.\n",
        "rfm[\"monetary\"] = df[\"customer_value_total\"]\n",
        "\n",
        "# Oluşturulan RFM DataFrame'inin ilk 5 satırını yazdır.\n",
        "print(\"\\nFirst 5 rows of RFM dataframe:\")\n",
        "print(rfm.head(), \"\\n\")"
      ],
      "metadata": {
        "colab": {
          "base_uri": "https://localhost:8080/"
        },
        "id": "52AKxTfmz1oZ",
        "outputId": "959a8bd0-7d74-4b80-fb99-487e7c5b8876"
      },
      "execution_count": null,
      "outputs": [
        {
          "output_type": "stream",
          "name": "stdout",
          "text": [
            "\n",
            "Last order date in dataset:\n",
            "2021-05-30 00:00:00\n",
            "\n",
            "First 5 rows of RFM dataframe:\n",
            "                            customer_id  recency  frequency  monetary\n",
            "0  cc294636-19f0-11eb-8d74-000d3a38a36f       95       5.00    939.37\n",
            "1  f431bd5a-ab7b-11e9-a2fc-000d3a38a36f      105      21.00   2013.55\n",
            "2  69b69676-1a40-11ea-941b-000d3a38a36f      186       5.00    585.32\n",
            "3  1854e56c-491f-11eb-806e-000d3a38a36f      135       2.00    121.97\n",
            "4  d6ea1074-f1f5-11e9-9346-000d3a38a36f       86       2.00    209.98 \n",
            "\n"
          ]
        }
      ]
    },
    {
      "cell_type": "markdown",
      "metadata": {
        "id": "8941bcd1"
      },
      "source": [
        "**RFM Metriklerinin Hesaplanması ve RFM DataFrame'inin Oluşturulması**\n",
        "\n",
        "Bu adımda, RFM analizi için temel olan Recency, Frequency ve Monetary metrikleri hesaplanarak `rfm` adında yeni bir DataFrame oluşturulmuştur.\n",
        "\n",
        "1.  **Recency (Yenilik):** Müşterinin son alışveriş tarihi ile analiz tarihi arasındaki gün farkı hesaplanır. Analiz tarihi olarak, veri setindeki en son sipariş tarihinden 2 gün sonrası (`2021-06-01`) belirlenmiştir. Recency değeri düşük olan müşteriler daha yakın zamanda alışveriş yapmışlardır ve genellikle daha değerli olarak kabul edilirler.\n",
        "2.  **Frequency (Sıklık):** Müşterinin toplam sipariş sayısı (`order_num_total`) Frequency metriği olarak kullanılır. Frequency değeri yüksek olan müşteriler daha sık alışveriş yapmaktadırlar.\n",
        "3.  **Monetary (Parasal Değer):** Müşterinin toplam harcama değeri (`customer_value_total`) Monetary metriği olarak kullanılır. Monetary değeri yüksek olan müşteriler şirkete daha fazla gelir sağlamışlardır.\n",
        "\n",
        "Bu metrikler, her bir müşteri için hesaplanarak yeni `rfm` DataFrame'ine `customer_id`, `recency`, `frequency` ve `monetary` sütunları olarak eklenir. Bu DataFrame, müşteri segmentasyonu için temel oluşturacaktır."
      ]
    },
    {
      "cell_type": "markdown",
      "source": [
        "---"
      ],
      "metadata": {
        "id": "kkV9s2Eo5NXP"
      }
    },
    {
      "cell_type": "markdown",
      "source": [
        "---"
      ],
      "metadata": {
        "id": "PbBPdCKV5Lg2"
      }
    },
    {
      "cell_type": "markdown",
      "source": [
        "**GÖREV 3: RF VE RFM SKORLARININ HESAPLANMASI**"
      ],
      "metadata": {
        "id": "DClozHIT5OYu"
      }
    },
    {
      "cell_type": "markdown",
      "metadata": {
        "id": "a89f2464"
      },
      "source": [
        "Bu bölüm, RF ve RFM (Recency, Frequency, Monetary) skorlarının hesaplanmasını içerir."
      ]
    },
    {
      "cell_type": "code",
      "source": [
        "###############################################################\n",
        "# 1. Recency, Frequency, Monetary skorlarının hesaplanması\n",
        "###############################################################\n",
        "\n",
        "# Recency skorunu hesapla: Değerleri 5 gruba ayır ve 5 en iyi (en düşük recency) olacak şekilde etiketle.\n",
        "rfm[\"recency_score\"] = pd.qcut(rfm[\"recency\"], 5, labels=[5, 4, 3, 2, 1])\n",
        "# Frequency skorunu hesapla: Değerlerin rank'ını al, 5 gruba ayır ve 5 en iyi (en yüksek frequency) olacak şekilde etiketle.\n",
        "rfm[\"frequency_score\"] = pd.qcut(rfm[\"frequency\"].rank(method=\"first\"), 5, labels=[1, 2, 3, 4, 5])\n",
        "# Monetary skorunu hesapla: Değerleri 5 gruba ayır ve 5 en iyi (en yüksek monetary) olacak şekilde etiketle.\n",
        "rfm[\"monetary_score\"] = pd.qcut(rfm[\"monetary\"], 5, labels=[1, 2, 3, 4, 5])\n",
        "\n",
        "###############################################################\n",
        "# 2. RF_SCORE oluşturma\n",
        "###############################################################\n",
        "\n",
        "# Recency ve Frequency skorlarını birleştirerek RF_SCORE oluştur.\n",
        "rfm[\"RF_SCORE\"] = (rfm[\"recency_score\"].astype(str) +\n",
        "                   rfm[\"frequency_score\"].astype(str))\n",
        "\n",
        "###############################################################\n",
        "# 3. RFM_SCORE oluşturma\n",
        "###############################################################\n",
        "\n",
        "# Recency, Frequency ve Monetary skorlarını birleştirerek RFM_SCORE oluştur.\n",
        "rfm[\"RFM_SCORE\"] = (rfm[\"recency_score\"].astype(str) +\n",
        "                    rfm[\"frequency_score\"].astype(str) +\n",
        "                    rfm[\"monetary_score\"].astype(str))\n",
        "\n",
        "# RFM skorları eklenmiş DataFrame'in ilk 5 satırını yazdır.\n",
        "print(\"\\nFirst 5 rows of RFM with scores:\\n\")\n",
        "print(rfm.head())"
      ],
      "metadata": {
        "colab": {
          "base_uri": "https://localhost:8080/"
        },
        "id": "qQgVj7I843Dd",
        "outputId": "29908ad6-467e-4523-fc5d-f23752e02c42"
      },
      "execution_count": null,
      "outputs": [
        {
          "output_type": "stream",
          "name": "stdout",
          "text": [
            "\n",
            "First 5 rows of RFM with scores:\n",
            "\n",
            "                            customer_id  recency  frequency  monetary recency_score frequency_score monetary_score RF_SCORE RFM_SCORE\n",
            "0  cc294636-19f0-11eb-8d74-000d3a38a36f       95       5.00    939.37             3               4              4       34       344\n",
            "1  f431bd5a-ab7b-11e9-a2fc-000d3a38a36f      105      21.00   2013.55             3               5              5       35       355\n",
            "2  69b69676-1a40-11ea-941b-000d3a38a36f      186       5.00    585.32             2               4              3       24       243\n",
            "3  1854e56c-491f-11eb-806e-000d3a38a36f      135       2.00    121.97             3               1              1       31       311\n",
            "4  d6ea1074-f1f5-11e9-9346-000d3a38a36f       86       2.00    209.98             3               1              1       31       311\n"
          ]
        }
      ]
    },
    {
      "cell_type": "markdown",
      "metadata": {
        "id": "8dd80c0f"
      },
      "source": [
        "**RF ve RFM Skorlarının Hesaplanması**\n",
        "\n",
        "Bu adımda, daha önce hesapladığımız Recency, Frequency ve Monetary metrikleri 1 ile 5 arasında değişen skorlara dönüştürülmüş ve bu skorlar birleştirilerek RF ve RFM Skorları oluşturulmuştur.\n",
        "\n",
        "1.  **Skorlama:** Her bir metrik (`recency`, `frequency`, `monetary`) `pd.qcut()` fonksiyonu kullanılarak beş eşit parçaya (quantiles) bölünmüştür.\n",
        "    *   **Recency Skor:** En düşük recency değerine sahip (en son alışveriş yapan) müşteriler en yüksek skoru (5) alacak şekilde tersine skorlanmıştır (`labels=[5, 4, 3, 2, 1]`). Bu tersine skorlama sayesinde, düşük recency değerleri yüksek skorlarla eşleşir.\n",
        "    *   **Frequency Skor:** En yüksek frequency değerine sahip (en sık alışveriş yapan) müşteriler en yüksek skoru (5) alacak şekilde skorlanmıştır. Aynı frequency değerine sahip müşteriler arasında tutarlı bir sıralama sağlamak ve `qcut`'ın doğru çalışması için `rank(method=\"first\")` kullanılarak değerler önce sıralanmıştır.\n",
        "    *   **Monetary Skor:** En yüksek monetary değerine sahip (en çok harcama yapan) müşteriler en yüksek skoru (5) alacak şekilde skorlanmıştır (`labels=[1, 2, 3, 4, 5]`).\n",
        "2.  **RF\\_SCORE Oluşturma:** Recency ve Frequency skorları string'e çevrilerek birleştirilmiştir (Örn: Recency=5, Frequency=4 -> RF\\_SCORE=\"54\").\n",
        "3.  **RFM\\_SCORE Oluşturma:** Recency, Frequency ve Monetary skorları string'e çevrilerek birleştirilmiştir (Örn: Recency=5, Frequency=4, Monetary=5 -> RFM\\_SCORE=\"545\").\n",
        "\n",
        "Bu skorlar ve birleşik skorlar, müşterileri farklı segmentlere ayırmak için kullanılacaktır."
      ]
    },
    {
      "cell_type": "markdown",
      "source": [
        "---"
      ],
      "metadata": {
        "id": "CPyiI-7y9mNH"
      }
    },
    {
      "cell_type": "markdown",
      "source": [
        "---"
      ],
      "metadata": {
        "id": "KI2IwcFx9oed"
      }
    },
    {
      "cell_type": "markdown",
      "source": [
        "**GÖREV 4: SEGMENTLERİN OLUŞTURULMASI**"
      ],
      "metadata": {
        "id": "gTtivFRR9pqw"
      }
    },
    {
      "cell_type": "markdown",
      "metadata": {
        "id": "ab2e0b8a"
      },
      "source": [
        "Bu bölüm, hesaplanan RF skorları üzerinden müşteri segmentlerinin oluşturulmasını içerir."
      ]
    },
    {
      "cell_type": "code",
      "source": [
        "###############################################################\n",
        "# 1. Segment tanımlamaları\n",
        "###############################################################\n",
        "\n",
        "# RF skorlarına karşılık gelen segment isimlerini tanımlayan bir sözlük oluştur.\n",
        "# Anahtarlar regex desenleri, değerler ise segment isimleridir.\n",
        "seg_map = {\n",
        "    r\"[1-2][1-2]\": \"hibernating\", # Düşük Recency ve Düşük Frequency\n",
        "    r\"[1-2][3-4]\": \"at_Risk\",     # Düşük Recency, Orta-Yüksek Frequency\n",
        "    r\"[1-2]5\": \"cant_loose\",      # Düşük Recency, Yüksek Frequency\n",
        "    r\"3[1-2]\": \"about_to_sleep\",  # Orta Recency, Düşük Frequency\n",
        "    r\"33\": \"need_attention\",      # Orta Recency, Orta Frequency\n",
        "    r\"[3-4][4-5]\": \"loyal_customers\", # Orta-Yüksek Recency, Yüksek Frequency\n",
        "    r\"41\": \"promising\",           # Yüksek Recency, Düşük Frequency (Yeni olabilirler veya tek seferlik)\n",
        "    r\"51\": \"new_customers\",       # En Yüksek Recency, Düşük Frequency (Yeni müşteriler)\n",
        "    r\"[4-5][2-3]\": \"potential_loyalists\", # Yüksek Recency, Orta Frequency\n",
        "    r\"5[4-5]\": \"champions\"        # En Yüksek Recency, En Yüksek Frequency\n",
        "}\n",
        "\n",
        "# rfm DataFrame'ine \"segment\" adında yeni bir sütun ekle.\n",
        "# RF_SCORE sütunundaki değerleri seg_map sözlüğünü kullanarak segment isimleriyle değiştir.\n",
        "# regex=True parametresi, anahtarların regex desenleri olarak kullanılmasını sağlar.\n",
        "rfm[\"segment\"] = rfm[\"RF_SCORE\"].replace(seg_map, regex=True)\n",
        "\n",
        "# Segment bilgisi eklenmiş DataFrame'in ilk 5 satırını yazdır.\n",
        "print(\"\\nFirst 5 rows of RFM with segments:\\n\")\n",
        "print(rfm.head())"
      ],
      "metadata": {
        "colab": {
          "base_uri": "https://localhost:8080/"
        },
        "id": "5qnpte_79sdA",
        "outputId": "57443a84-2636-471e-a1ac-eada9ab5e8cc"
      },
      "execution_count": null,
      "outputs": [
        {
          "output_type": "stream",
          "name": "stdout",
          "text": [
            "\n",
            "First 5 rows of RFM with segments:\n",
            "\n",
            "                            customer_id  recency  frequency  monetary recency_score frequency_score monetary_score RF_SCORE RFM_SCORE          segment\n",
            "0  cc294636-19f0-11eb-8d74-000d3a38a36f       95       5.00    939.37             3               4              4       34       344  loyal_customers\n",
            "1  f431bd5a-ab7b-11e9-a2fc-000d3a38a36f      105      21.00   2013.55             3               5              5       35       355  loyal_customers\n",
            "2  69b69676-1a40-11ea-941b-000d3a38a36f      186       5.00    585.32             2               4              3       24       243          at_Risk\n",
            "3  1854e56c-491f-11eb-806e-000d3a38a36f      135       2.00    121.97             3               1              1       31       311   about_to_sleep\n",
            "4  d6ea1074-f1f5-11e9-9346-000d3a38a36f       86       2.00    209.98             3               1              1       31       311   about_to_sleep\n"
          ]
        }
      ]
    },
    {
      "cell_type": "markdown",
      "metadata": {
        "id": "d52a4fa2"
      },
      "source": [
        "**RF Skorlarının Segment Olarak Tanımlanması**\n",
        "\n",
        "Bu adımda, daha önce hesapladığımız RF\\_SCORE'ları kullanarak müşterileri önceden tanımlanmış segmentlere ayırdık. RF\\_SCORE, müşterinin Recency ve Frequency skorlarının (1'den 5'e kadar olan sayılar) birleştirilmesiyle elde edilen iki haneli bir string'dir (Örn: \"54\").\n",
        "\n",
        "1.  **Segment Tanımları:** `seg_map` adında bir sözlük oluşturuldu. Bu sözlüğün anahtarları, RF\\_SCORE değerleriyle eşleşen **düzenli ifadeler (regex)** içerir. Örneğin:\n",
        "    *   `r\"[1-2][1-2]\"` anahtarı, Recency skoru 1 veya 2 OLAN ve Frequency skoru 1 veya 2 OLAN müşterileri eşleştirir. Bu müşteriler \"hibernating\" segmentine atanır.\n",
        "    *   `r\"5[4-5]\"` anahtarı, Recency skoru 5 OLAN ve Frequency skoru 4 veya 5 OLAN müşterileri eşleştirir. Bu müşteriler \"champions\" segmentine atanır.\n",
        "    *   Sözlüğün değerleri ise bu regex desenlerine karşılık gelen segment isimleridir.\n",
        "2.  **Segment Atama:** `rfm` DataFrame'ine \"segment\" adında yeni bir sütun eklenmiştir. `rfm[\"RF_SCORE\"].replace(seg_map, regex=True)` kodu kullanılarak, her müşterinin `RF_SCORE` değeri `seg_map` sözlüğündeki regex desenleriyle karşılaştırılır. Eşleşen desenin karşılığı olan segment ismi o müşterinin \"segment\" sütununa atanır. `regex=True` parametresi, anahtarların düzenli ifade olarak işlenmesini sağlar.\n",
        "\n",
        "Bu adım sonucunda, her müşteri Recency ve Frequency davranışlarına göre belirli bir segmente atanmış olur. Bu segmentler, hedefli pazarlama kampanyaları ve stratejileri geliştirmek için kullanılacaktır."
      ]
    },
    {
      "cell_type": "markdown",
      "source": [
        "---"
      ],
      "metadata": {
        "id": "oxEZcJWHBpI2"
      }
    },
    {
      "cell_type": "markdown",
      "source": [
        "---"
      ],
      "metadata": {
        "id": "mvhN3YLZBuBT"
      }
    },
    {
      "cell_type": "markdown",
      "source": [
        "**GÖREV 5: EYLEME DÖNÜŞTÜRÜLEBİLİR İÇGÖRÜLER**"
      ],
      "metadata": {
        "id": "AuUHyrkQCS64"
      }
    },
    {
      "cell_type": "markdown",
      "metadata": {
        "id": "2a7f8340"
      },
      "source": [
        "Bu bölüm, RFM analizi ve müşteri segmentasyonundan elde edilen bulguları eyleme dönüştürülebilir içgörülere çevirmeyi amaçlar."
      ]
    },
    {
      "cell_type": "code",
      "source": [
        "###############################################################\n",
        "# 1. Segmentlerin recency, frequency, monetary ortalamaları\n",
        "###############################################################\n",
        "\n",
        "print(\"\\nSegment statistics (mean values and counts):\\n\")\n",
        "# RFM DataFrame'inden segment, recency, frequency ve monetary sütunlarını seç.\n",
        "# \"segment\" sütununa göre gruplama yap.\n",
        "# Her grup için recency, frequency ve monetary sütunlarının ortalamasını (mean) ve sayısını (count) hesapla.\n",
        "print(rfm[[\"segment\", \"recency\", \"frequency\", \"monetary\"]]\n",
        "      .groupby(\"segment\").agg([\"mean\", \"count\"]), \"\\n\")"
      ],
      "metadata": {
        "colab": {
          "base_uri": "https://localhost:8080/"
        },
        "id": "DcTnwRtWDHfW",
        "outputId": "43fc5c3e-ffe0-41c7-d670-e0dba9311813"
      },
      "execution_count": null,
      "outputs": [
        {
          "output_type": "stream",
          "name": "stdout",
          "text": [
            "\n",
            "Segment statistics (mean values and counts):\n",
            "\n",
            "                    recency       frequency       monetary      \n",
            "                       mean count      mean count     mean count\n",
            "segment                                                         \n",
            "about_to_sleep       113.79  1629      2.40  1629   359.01  1629\n",
            "at_Risk              241.61  3131      4.47  3131   646.61  3131\n",
            "cant_loose           235.44  1200     10.70  1200  1474.47  1200\n",
            "champions             17.11  1932      8.93  1932  1406.63  1932\n",
            "hibernating          247.95  3604      2.39  3604   366.27  3604\n",
            "loyal_customers       82.59  3361      8.37  3361  1216.82  3361\n",
            "need_attention       113.83   823      3.73   823   562.14   823\n",
            "new_customers         17.92   680      2.00   680   339.96   680\n",
            "potential_loyalists   37.16  2938      3.30  2938   533.18  2938\n",
            "promising             58.92   647      2.00   647   335.67   647 \n",
            "\n"
          ]
        }
      ]
    },
    {
      "cell_type": "markdown",
      "metadata": {
        "id": "e11b0d8f"
      },
      "source": [
        "**Segment İstatistikleri: Ortalama Değerler ve Müşteri Sayıları**\n",
        "\n",
        "Bu adımda, oluşturduğumuz müşteri segmentlerinin temel RFM metrikleri (Recency, Frequency, Monetary) açısından ne durumda olduğunu görmek için segment bazında ortalama değerleri ve her segmentteki müşteri sayısını hesapladık.\n",
        "\n",
        "`rfm[[\"segment\", \"recency\", \"frequency\", \"monetary\"]].groupby(\"segment\").agg([\"mean\", \"count\"])` kodu:\n",
        "\n",
        "1.  `rfm` DataFrame'inden ilgili sütunları (`segment`, `recency`, `frequency`, `monetary`) seçer.\n",
        "2.  Veriyi `segment` sütununa göre gruplar.\n",
        "3.  Her bir segment grubu için `recency`, `frequency` ve `monetary` sütunlarının ortalamasını (`mean`) ve o segmentteki müşteri sayısını (`count`) hesaplar.\n",
        "\n",
        "Bu istatistikler, her bir segmentin özelliklerini anlamamıza yardımcı olur. Örneğin, \"champions\" segmentinin düşük recency (yakın zamanda alışveriş yapmış), yüksek frequency (sık alışveriş yapmış) ve yüksek monetary (çok harcama yapmış) değerlerine sahip olduğunu; \"hibernating\" segmentinin ise tam tersi özellikler gösterdiğini görebiliriz. Bu bilgiler, her segmente yönelik özel pazarlama stratejileri geliştirmek için kritik öneme sahiptir."
      ]
    },
    {
      "cell_type": "markdown",
      "source": [
        "---"
      ],
      "metadata": {
        "id": "DyV4be5uE-GL"
      }
    },
    {
      "cell_type": "code",
      "source": [
        "###############################################################\n",
        "# 2.a Yeni kadın ayakkabı markası için hedef müşteri seçimi\n",
        "###############################################################\n",
        "\n",
        "# \"champions\" ve \"loyal_customers\" segmentlerindeki müşteri ID'lerini seç.\n",
        "target_segments_customer_ids = rfm[rfm[\"segment\"].isin([\"champions\", \"loyal_customers\"])][\"customer_id\"]\n",
        "# Seçilen segmentlerdeki ve \"KADIN\" kategorisiyle ilgilenen müşteri ID'lerini filtrele.\n",
        "cust_ids = df[(df[\"master_id\"].isin(target_segments_customer_ids)) &\n",
        "              (df[\"interested_in_categories_12\"].str.contains(\"KADIN\"))][\"master_id\"]\n",
        "\n",
        "# Hedef müşteri ID'lerini CSV dosyasına kaydet.\n",
        "cust_ids.to_csv(\"yeni_marka_hedef_müşteri_id.csv\", index=False)\n",
        "print(\"\\nNew brand target customer IDs saved to yeni_marka_hedef_müşteri_id.csv\")\n",
        "print(\"Number of customers:\", cust_ids.shape[0])"
      ],
      "metadata": {
        "colab": {
          "base_uri": "https://localhost:8080/"
        },
        "id": "puaO9t4YEDIF",
        "outputId": "a7724d67-81eb-4cc4-c59d-2365fa4f666c"
      },
      "execution_count": null,
      "outputs": [
        {
          "output_type": "stream",
          "name": "stdout",
          "text": [
            "\n",
            "New brand target customer IDs saved to yeni_marka_hedef_müşteri_id.csv\n",
            "Number of customers: 2497\n"
          ]
        }
      ]
    },
    {
      "cell_type": "markdown",
      "metadata": {
        "id": "06ca7dfc"
      },
      "source": [
        "**Yeni Kadın Ayakkabı Markası İçin Hedef Müşteri Seçimi**\n",
        "\n",
        "FLO bünyesine yeni bir kadın ayakkabı markası dahil ediyor. Dahil ettiği markanın ürün fiyatları genel müşteri tercihlerinin üstünde. Bu nedenle markanın tanıtımı ve ürün satışları için ilgilenecek profildeki müşterilerle özel olarak iletişime geçilmek isteniliyor. Bu müşterilerin sadık ve kadın kategorisinden alışveriş yapan kişiler olması planlandı.\n",
        "\n",
        "Bu hedef doğrultusunda, aşağıdaki adımlar izlenerek hedef müşteri kitlesi belirlenmiştir:\n",
        "\n",
        "1.  **Segment Filtrelemesi:** Öncelikle, sadık müşteri profiline uyan \"champions\" ve \"loyal_customers\" segmentlerindeki müşterilerin ID'leri seçilmiştir.\n",
        "2.  **Kategori Filtrelemesi:** Seçilen bu müşteriler arasından, son 12 ayda \"KADIN\" kategorisiyle ilgilenenler (alışveriş yapanlar) filtrelenmiştir.\n",
        "3.  **ID'lerin Kaydedilmesi:** Belirlenen hedef müşteri ID'leri, \"yeni\\_marka\\_hedef\\_müşteri\\_id.csv\" adlı bir CSV dosyasına kaydedilmiştir.\n",
        "\n",
        "Bu CSV dosyası, yeni markanın tanıtımı ve özel kampanyaları için kullanılacak hedef müşteri listesini içermektedir."
      ]
    },
    {
      "cell_type": "markdown",
      "source": [
        "---"
      ],
      "metadata": {
        "id": "B9RPw0mbMzoE"
      }
    },
    {
      "cell_type": "code",
      "source": [
        "###############################################################\n",
        "# 2.b Erkek ve Çocuk ürünlerinde indirim için hedef müşteri seçimi\n",
        "###############################################################\n",
        "\n",
        "# \"cant_loose\", \"hibernating\", \"new_customers\" segmentlerindeki müşteri ID'lerini seç.\n",
        "target_segments_customer_ids = rfm[rfm[\"segment\"].isin([\"cant_loose\", \"hibernating\", \"new_customers\"])][\"customer_id\"]\n",
        "# Seçilen segmentlerdeki ve \"ERKEK\" veya \"COCUK\" kategorileriyle ilgilenen müşteri ID'lerini filtrele.\n",
        "cust_ids = df[(df[\"master_id\"].isin(target_segments_customer_ids)) &\n",
        "              ((df[\"interested_in_categories_12\"].str.contains(\"ERKEK\")) |\n",
        "               (df[\"interested_in_categories_12\"].str.contains(\"COCUK\")))][\"master_id\"]\n",
        "\n",
        "# Hedef müşteri ID'lerini CSV dosyasına kaydet.\n",
        "cust_ids.to_csv(\"indirim_hedef_müşteri_ids.csv\", index=False)\n",
        "print(\"\\nDiscount campaign target customer IDs saved to indirim_hedef_müşteri_ids.csv\")\n",
        "print(\"Number of customers:\", cust_ids.shape[0])"
      ],
      "metadata": {
        "colab": {
          "base_uri": "https://localhost:8080/"
        },
        "id": "VdCWIQcjEImd",
        "outputId": "66314fed-6950-4957-9103-c5241e55af3b"
      },
      "execution_count": null,
      "outputs": [
        {
          "output_type": "stream",
          "name": "stdout",
          "text": [
            "\n",
            "Discount campaign target customer IDs saved to indirim_hedef_müşteri_ids.csv\n",
            "Number of customers: 2771\n"
          ]
        }
      ]
    },
    {
      "cell_type": "markdown",
      "metadata": {
        "id": "66ff35a9"
      },
      "source": [
        "**Erkek ve Çocuk Ürünlerinde İndirim İçin Hedef Müşteri Seçimi**\n",
        "\n",
        "Erkek ve Çoçuk ürünlerinde %40'a yakın indirim planlanmaktadır. Bu indirimle ilgili kategorilerle ilgilenen geçmişte iyi müşterilerden olan ama uzun süredir alışveriş yapmayan ve yeni gelen müşteriler özel olarak hedef alınmak isteniliyor.\n",
        "\n",
        "Bu hedef doğrultusunda, aşağıdaki adımlar izlenerek hedef müşteri kitlesi belirlenmiştir:\n",
        "\n",
        "1.  **Segment Filtrelemesi:** Öncelikle, \"cant\\_loose\" (kaybetmemek gerekenler), \"hibernating\" (uykuda olanlar) ve \"new\\_customers\" (yeni müşteriler) segmentlerindeki müşterilerin ID'leri seçilmiştir. Bu segmentler, geçmişte değerli olup aktivitesi düşen veya yeni kazanılan müşterileri temsil eder.\n",
        "2.  **Kategori Filtrelemesi:** Seçilen bu müşteriler arasından, son 12 ayda \"ERKEK\" veya \"COCUK\" kategorileriyle ilgilenenler (alışveriş yapanlar) filtrelenmiştir.\n",
        "3.  **ID'lerin Kaydedilmesi:** Belirlenen hedef müşteri ID'leri, \"indirim\\_hedef\\_müşteri\\_ids.csv\" adlı bir CSV dosyasına kaydedilmiştir.\n",
        "\n",
        "Bu CSV dosyası, indirim kampanyası için kullanılacak hedef müşteri listesini içermektedir."
      ]
    },
    {
      "cell_type": "markdown",
      "source": [
        "---"
      ],
      "metadata": {
        "id": "j_rqLg7UIZ7z"
      }
    },
    {
      "cell_type": "markdown",
      "source": [
        "---"
      ],
      "metadata": {
        "id": "CyJQaxM7IZIR"
      }
    },
    {
      "cell_type": "markdown",
      "source": [
        "**BONUS: TÜM SÜRECİ FONKSİYONLAŞTIRMA**"
      ],
      "metadata": {
        "id": "-AfkdkkgIbOU"
      }
    },
    {
      "cell_type": "code",
      "source": [
        "def create_rfm(dataframe):\n",
        "    \"\"\"RFM segmentasyon veri çerçevesi oluşturur\"\"\"\n",
        "\n",
        "    # Veri hazırlama: Toplam sipariş sayısı ve toplam harcama hesapla\n",
        "    dataframe[\"order_num_total\"] = (dataframe[\"order_num_total_ever_online\"] +\n",
        "                                    dataframe[\"order_num_total_ever_offline\"])\n",
        "    dataframe[\"customer_value_total\"] = (dataframe[\"customer_value_total_ever_offline\"] +\n",
        "                                         dataframe[\"customer_value_total_ever_online\"])\n",
        "\n",
        "    # Tarih değişkenlerini datetime tipine çevir\n",
        "    date_columns = dataframe.columns[dataframe.columns.str.contains(\"date\")]\n",
        "    dataframe[date_columns] = dataframe[date_columns].apply(pd.to_datetime)\n",
        "\n",
        "    # Analiz tarihi: Son alışveriş tarihinden 2 gün sonrası\n",
        "    analysis_date = dt.datetime(2021, 6, 1)\n",
        "\n",
        "    # RFM metrikleri: Recency, Frequency ve Monetary değerlerini hesapla\n",
        "    rfm = pd.DataFrame()\n",
        "    rfm[\"customer_id\"] = dataframe[\"master_id\"]\n",
        "    rfm[\"recency\"] = (analysis_date - dataframe[\"last_order_date\"]).dt.days # Gün farkını hesapla\n",
        "    rfm[\"frequency\"] = dataframe[\"order_num_total\"] # Toplam sipariş sayısı\n",
        "    rfm[\"monetary\"] = dataframe[\"customer_value_total\"] # Toplam harcama\n",
        "\n",
        "    # Skorlar: Recency, Frequency, Monetary skorlarını hesapla ve birleştir\n",
        "    rfm[\"recency_score\"] = pd.qcut(rfm['recency'], 5, labels=[5, 4, 3, 2, 1]) # Recency skoru (ters)\n",
        "    rfm[\"frequency_score\"] = pd.qcut(rfm['frequency'].rank(method=\"first\"), 5, labels=[1, 2, 3, 4, 5]) # Frequency skoru (rank ile)\n",
        "    rfm[\"monetary_score\"] = pd.qcut(rfm['monetary'], 5, labels=[1, 2, 3, 4, 5]) # Monetary skoru\n",
        "    rfm[\"RF_SCORE\"] = (rfm['recency_score'].astype(str) + rfm['frequency_score'].astype(str)) # RF skoru\n",
        "    rfm[\"RFM_SCORE\"] = (rfm['recency_score'].astype(str) + rfm['frequency_score'].astype(str) + rfm['monetary_score'].astype(str)) # RFM skoru\n",
        "\n",
        "    # Segmentler: RF_SCORE'a göre müşteri segmentlerini ata\n",
        "    seg_map = {\n",
        "        r'[1-2][1-2]': 'hibernating',\n",
        "        r'[1-2][3-4]': 'at_Risk',\n",
        "        r'[1-2]5': 'cant_loose',\n",
        "        r'3[1-2]': 'about_to_sleep',\n",
        "        r'33': 'need_attention',\n",
        "        r'[3-4][4-5]': 'loyal_customers',\n",
        "        r'41': 'promising',\n",
        "        r'51': 'new_customers',\n",
        "        r'[4-5][2-3]': 'potential_loyalists',\n",
        "        r'5[4-5]': 'champions'\n",
        "    }\n",
        "    rfm['segment'] = rfm['RF_SCORE'].replace(seg_map, regex=True) # Segment isimlerini ata\n",
        "\n",
        "    # İstenen sütunları içeren RFM DataFrame'ini döndür\n",
        "    return rfm[[\"customer_id\", \"recency\", \"frequency\", \"monetary\", \"RF_SCORE\", \"RFM_SCORE\", \"segment\"]]\n",
        "\n",
        "# Fonksiyonu çalıştır ve sonucu yeni bir DataFrame'e ata\n",
        "rfm_df = create_rfm(df)\n",
        "print(\"\\nFinal RFM dataframe created with segments:\\n\")\n",
        "print(rfm_df.head(),\"\\n\")"
      ],
      "metadata": {
        "colab": {
          "base_uri": "https://localhost:8080/"
        },
        "id": "n7adkwXSJHUV",
        "outputId": "854d7aa6-071c-44fb-f57f-475cdb7c1d11"
      },
      "execution_count": null,
      "outputs": [
        {
          "output_type": "stream",
          "name": "stdout",
          "text": [
            "\n",
            "Final RFM dataframe created with segments:\n",
            "\n",
            "                            customer_id  recency  frequency  monetary RF_SCORE RFM_SCORE          segment\n",
            "0  cc294636-19f0-11eb-8d74-000d3a38a36f       95       5.00    939.37       34       344  loyal_customers\n",
            "1  f431bd5a-ab7b-11e9-a2fc-000d3a38a36f      105      21.00   2013.55       35       355  loyal_customers\n",
            "2  69b69676-1a40-11ea-941b-000d3a38a36f      186       5.00    585.32       24       243          at_Risk\n",
            "3  1854e56c-491f-11eb-806e-000d3a38a36f      135       2.00    121.97       31       311   about_to_sleep\n",
            "4  d6ea1074-f1f5-11e9-9346-000d3a38a36f       86       2.00    209.98       31       311   about_to_sleep \n",
            "\n"
          ]
        }
      ]
    },
    {
      "cell_type": "markdown",
      "metadata": {
        "id": "c89ba9ac"
      },
      "source": [
        "**BONUS: Tüm Süreci Fonksiyonlaştırma**\n",
        "\n",
        "Bu bölümde, RFM segmentasyon adımlarını tek bir fonksiyon altında toplayan `create_rfm` fonksiyonu oluşturulmuştur.\n",
        "\n",
        "Bu fonksiyon:\n",
        "\n",
        "1.  Ham veri setini (DataFrame olarak) girdi olarak alır.\n",
        "2.  Gerekli veri hazırlıklarını yapar (toplam sipariş ve harcama hesaplama, tarih değişkenlerini dönüştürme).\n",
        "3.  Belirlenen analiz tarihine göre Recency, Frequency ve Monetary metriklerini hesaplar.\n",
        "4.  Bu metrikler üzerinden 1-5 arası RFM skorlarını hesaplar.\n",
        "5.  RF skorlarına göre müşteri segmentlerini belirler.\n",
        "6.  Sonuç olarak, müşteri ID'leri, RFM metrikleri, RF/RFM skorları ve segment bilgilerini içeren bir DataFrame döndürür.\n",
        "\n",
        "Bu fonksiyon sayesinde, farklı veri setleri üzerinde kolayca RFM analizi yapabilir ve müşteri segmentasyonu sonuçlarına hızlıca ulaşabilirsiniz. Kodun tekrar kullanılabilirliğini ve okunabilirliğini artırır."
      ]
    },
    {
      "cell_type": "markdown",
      "source": [
        "----"
      ],
      "metadata": {
        "id": "I1tzc3L2M3Ec"
      }
    },
    {
      "cell_type": "markdown",
      "source": [
        "----"
      ],
      "metadata": {
        "id": "n1v9PH90M2GD"
      }
    },
    {
      "cell_type": "markdown",
      "metadata": {
        "id": "63f027fe"
      },
      "source": [
        "# Projenin Sonuçları, Faydaları ve Kullanılan Beceriler"
      ]
    },
    {
      "cell_type": "markdown",
      "metadata": {
        "id": "12018501"
      },
      "source": [
        "**Proje Sonuçları:**\n",
        "\n",
        "Bu proje kapsamında gerçekleştirilen RFM analizi ve müşteri segmentasyonu ile FLO müşterileri, alışveriş davranışlarına göre anlamlı gruplara ayrılmıştır. Elde edilen segmentler (Champions, Loyal Customers, Hibernating vb.), her bir grubun Recency, Frequency ve Monetary metrikleri açısından farklı özellikler gösterdiğini ortaya koymuştur. Ayrıca, belirli pazarlama kampanyaları için (yeni kadın ayakkabı markası ve Erkek/Çocuk ürünleri indirimi) hedef müşteri listeleri oluşturulmuştur.\n",
        "\n",
        "---\n",
        "\n",
        "**Projenin Faydaları:**\n",
        "\n",
        "Bu segmentasyon çalışmasının FLO'ya sağlayacağı başlıca faydalar şunlardır:\n",
        "\n",
        "*   **Hedefli Pazarlama:** Farklı müşteri segmentlerine yönelik daha etkili ve kişiselleştirilmiş pazarlama stratejileri geliştirme imkanı.\n",
        "*   **Müşteri Değeri Yönetimi:** En değerli müşterilerin belirlenerek sadakatlerinin artırılması ve ilişkilerin güçlendirilmesi.\n",
        "*   **Kaynak Optimizasyonu:** Pazarlama bütçesinin ve çabalarının en verimli şekilde kullanılması.\n",
        "*   **Karar Alma Süreçleri:** Müşteri davranışlarına dayalı veriye dayalı kararlar alma yeteneği.\n",
        "*   **Ürün ve Hizmet Geliştirme:** Segmentlerin ilgi alanlarına göre ürün ve hizmetlerin şekillendirilmesi.\n",
        "\n",
        "---\n",
        "\n",
        "**Kullanılan Beceriler:**\n",
        "\n",
        "Bu projeyi tamamlarken aşağıdaki temel beceriler kullanılmıştır:\n",
        "\n",
        "*   **Veri Okuma ve Anlama:** CSV formatındaki veriyi okuma ve yapısını anlama.\n",
        "*   **Veri Manipülasyonu ve Hazırlığı:** Pandas kütüphanesi ile veri üzerinde işlemler yapma (toplama, dönüştürme).\n",
        "*   **Özellik Mühendisliği:** Mevcut verilerden yeni, anlamlı özellikler (toplam sipariş, toplam harcama) türetme.\n",
        "*   **RFM Analizi:** Recency, Frequency ve Monetary metriklerini hesaplama.\n",
        "*   **Kantilleme (Quantile Analysis):** Müşterileri RFM metriklerine göre gruplara ayırma (`pd.qcut`).\n",
        "*   **Skorlama ve Segmentasyon:** RFM skorlarını oluşturma ve segmentasyon kurallarını tanımlama.\n",
        "*   **Veri Filtreleme ve Seçimi:** Belirli koşullara uyan müşteri alt kümelerini seçme.\n",
        "*   **Dosya Kaydetme:** Elde edilen sonuçları (hedef müşteri ID'leri) CSV dosyasına kaydetme.\n",
        "*   **Fonksiyon Yazma:** Tekrar kullanılabilir kod blokları oluşturma.\n",
        "*   **Temel İstatistiksel Analiz:** Segment ortalamalarını ve sayımlarını hesaplama."
      ]
    }
  ]
}